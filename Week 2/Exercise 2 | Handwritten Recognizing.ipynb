{
 "cells": [
  {
   "cell_type": "markdown",
   "metadata": {},
   "source": [
    "# HandWritten Recognizing\n",
    "\n",
    "In the course you learned how to do classificaiton using Fashion MNIST, a data set containing items of clothing. There's another, similar dataset called MNIST which has items of handwriting -- the digits 0 through 9.\n",
    "\n",
    "Write an MNIST classifier that trains to 99% accuracy or above, and does it without a fixed number of epochs -- i.e. you should stop training once you reach that level of accuracy.\n",
    "\n",
    "Some notes:\n",
    "1. It should succeed in less than 10 epochs, so it is okay to change epochs= to 10, but nothing larger\n",
    "2. When it reaches 99% or greater it should print out the string \"Reached 99% accuracy so cancelling training!\"\n",
    "3. If you add any additional variables, make sure you use the same names as the ones used in the class\n"
   ]
  },
  {
   "cell_type": "code",
   "execution_count": 1,
   "metadata": {},
   "outputs": [],
   "source": [
    "#Importing the library\n",
    "import tensorflow as tf\n",
    "from tensorflow import keras\n",
    "import numpy as np\n",
    "import matplotlib.pyplot as plt"
   ]
  },
  {
   "cell_type": "code",
   "execution_count": 9,
   "metadata": {},
   "outputs": [],
   "source": [
    "#importing the dataset\n",
    "dataset=tf.keras.datasets.mnist\n",
    "(train_x,train_label),(test_x,test_label)=dataset.load_data()"
   ]
  },
  {
   "cell_type": "code",
   "execution_count": 11,
   "metadata": {},
   "outputs": [
    {
     "name": "stdout",
     "output_type": "stream",
     "text": [
      "Details of datasets\n",
      "Train size :  60000\n",
      "Train label :  60000\n",
      "Test size :  10000\n",
      "Test label :  10000\n"
     ]
    }
   ],
   "source": [
    "#Data details\n",
    "print(\"Details of datasets\")\n",
    "print(\"Train size : \",len(train_x))\n",
    "print(\"Train label : \",len(train_label))\n",
    "print(\"Test size : \",len(test_x))\n",
    "print(\"Test label : \",len(test_label))"
   ]
  },
  {
   "cell_type": "code",
   "execution_count": 12,
   "metadata": {},
   "outputs": [],
   "source": [
    "#Normalize dataset\n",
    "train_x=train_x/255.0\n",
    "test_x=test_x/255.0"
   ]
  },
  {
   "cell_type": "code",
   "execution_count": 16,
   "metadata": {},
   "outputs": [
    {
     "name": "stdout",
     "output_type": "stream",
     "text": [
      "Label  5\n"
     ]
    },
    {
     "data": {
      "image/png": "[encoded data removed]",
      "text/plain": [
       "<Figure size 432x288 with 1 Axes>"
      ]
     },
     "metadata": {
      "needs_background": "light"
     },
     "output_type": "display_data"
    }
   ],
   "source": [
    "#Plotting label i\n",
    "i=0\n",
    "plt.imshow(train_x[i])\n",
    "print(\"Label \",train_label[i])"
   ]
  },
  {
   "cell_type": "code",
   "execution_count": 18,
   "metadata": {},
   "outputs": [],
   "source": [
    "#Define Model\n",
    "model=tf.keras.Sequential([tf.keras.layers.Flatten(),\n",
    "                          tf.keras.layers.Dense(128,activation=tf.nn.relu),\n",
    "                          tf.keras.layers.Dense(256,activation=tf.nn.relu),\n",
    "                          tf.keras.layers.Dense(10,activation=tf.nn.softmax)])"
   ]
  },
  {
   "cell_type": "code",
   "execution_count": 27,
   "metadata": {},
   "outputs": [],
   "source": [
    "class myCallback(tf.keras.callbacks.Callback):\n",
    "    def on_epoch_end(self, epoch, logs={}):\n",
    "        if(logs.get('acc')>0.99):\n",
    "          print(\"\\nReached 99% accuracy so cancelling training!\")\n",
    "          self.model.stop_training = True\n",
    "            \n",
    "callback=myCallback()"
   ]
  },
  {
   "cell_type": "code",
   "execution_count": 31,
   "metadata": {},
   "outputs": [
    {
     "name": "stdout",
     "output_type": "stream",
     "text": [
      "Epoch 1/10\n",
      "59744/60000 [============================>.] - ETA: 0s - loss: 0.0148 - acc: 0.9956\n",
      "Reached 99% accuracy so cancelling training!\n",
      "60000/60000 [==============================] - 6s 94us/sample - loss: 0.0148 - acc: 0.9956\n"
     ]
    }
   ],
   "source": [
    "model.compile(loss='sparse_categorical_crossentropy',optimizer='adam',metrics=['accuracy'])\n",
    "result=model.fit(train_x,train_label,epochs=10,callbacks=[callback])"
   ]
  },
  {
   "cell_type": "code",
   "execution_count": 32,
   "metadata": {},
   "outputs": [
    {
     "name": "stdout",
     "output_type": "stream",
     "text": [
      "Our train  accuracy =  99.56166744232178 %\n"
     ]
    }
   ],
   "source": [
    "accuracy=result.history['acc']\n",
    "print(\"Our train  accuracy = \",accuracy[0]*100,\"%\")"
   ]
  },
  {
   "cell_type": "code",
   "execution_count": 34,
   "metadata": {},
   "outputs": [
    {
     "name": "stdout",
     "output_type": "stream",
     "text": [
      "10000/10000 [==============================] - 0s 46us/sample - loss: 0.1284 - acc: 0.9801\n",
      "Our test  accuracy =  98.00999760627747 %\n"
     ]
    }
   ],
   "source": [
    "loss,accuracy=model.evaluate(test_x,test_label)\n",
    "print(\"Our test  accuracy = \",accuracy*100,\"%\")"
   ]
  },
  {
   "cell_type": "code",
   "execution_count": 38,
   "metadata": {},
   "outputs": [],
   "source": [
    "classifications=model.predict(test_x)"
   ]
  },
  {
   "cell_type": "code",
   "execution_count": 47,
   "metadata": {},
   "outputs": [
    {
     "name": "stdout",
     "output_type": "stream",
     "text": [
      "Prediction for  0  images | 7\n",
      "Acutal for  0  images     | 7\n",
      "\n",
      "Prediction for  1  images | 2\n",
      "Acutal for  1  images     | 2\n",
      "\n",
      "Prediction for  2  images | 1\n",
      "Acutal for  2  images     | 1\n",
      "\n",
      "Prediction for  3  images | 0\n",
      "Acutal for  3  images     | 0\n",
      "\n",
      "Prediction for  4  images | 4\n",
      "Acutal for  4  images     | 4\n",
      "\n",
      "Prediction for  5  images | 1\n",
      "Acutal for  5  images     | 1\n",
      "\n",
      "Prediction for  6  images | 4\n",
      "Acutal for  6  images     | 4\n",
      "\n",
      "Prediction for  7  images | 9\n",
      "Acutal for  7  images     | 9\n",
      "\n",
      "Prediction for  8  images | 5\n",
      "Acutal for  8  images     | 5\n",
      "\n",
      "Prediction for  9  images | 9\n",
      "Acutal for  9  images     | 9\n",
      "\n",
      "Prediction for  10  images | 0\n",
      "Acutal for  10  images     | 0\n",
      "\n",
      "Prediction for  11  images | 6\n",
      "Acutal for  11  images     | 6\n",
      "\n"
     ]
    }
   ],
   "source": [
    "for i in range(12):\n",
    "    print(\"Prediction for \",i,\" images |\",np.argmax(classifications[i]))\n",
    "    print(\"Acutal for \",i,\" images     |\",test_label[i])\n",
    "    print(\"\")"
   ]
  },
  {
   "cell_type": "code",
   "execution_count": null,
   "metadata": {},
   "outputs": [],
   "source": []
  },
  {
   "cell_type": "code",
   "execution_count": null,
   "metadata": {},
   "outputs": [],
   "source": []
  }
 ],
 "metadata": {
  "kernelspec": {
   "display_name": "Python 3",
   "language": "python",
   "name": "python3"
  },
  "language_info": {
   "codemirror_mode": {
    "name": "ipython",
    "version": 3
   },
   "file_extension": ".py",
   "mimetype": "text/x-python",
   "name": "python",
   "nbconvert_exporter": "python",
   "pygments_lexer": "ipython3",
   "version": "3.7.3"
  }
 },
 "nbformat": 4,
 "nbformat_minor": 2
}
